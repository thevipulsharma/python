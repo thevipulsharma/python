{
 "cells": [
  {
   "cell_type": "markdown",
   "metadata": {},
   "source": [
    "# Working with Structured Data"
   ]
  },
  {
   "cell_type": "markdown",
   "metadata": {},
   "source": [
    "## Dictionaries"
   ]
  },
  {
   "cell_type": "code",
   "execution_count": 3,
   "metadata": {},
   "outputs": [
    {
     "data": {
      "text/plain": [
       "{'Gender': 'Male',\n",
       " 'Name': 'Vipul Sharma',\n",
       " 'Occupation': 'Student',\n",
       " 'Planet': 'Earth'}"
      ]
     },
     "execution_count": 3,
     "metadata": {},
     "output_type": "execute_result"
    }
   ],
   "source": [
    "vip = {\n",
    "    'Name': 'Vipul Sharma',\n",
    "    'Gender': 'Male',\n",
    "    'Occupation': 'Student',\n",
    "    'Planet': 'Earth'\n",
    "}\n",
    "vip"
   ]
  },
  {
   "cell_type": "markdown",
   "metadata": {},
   "source": [
    "Unlike lists which used indexes to access data , dictionaries make use of keys to access associated values. The dictionaries uses hashmap for faster access to data."
   ]
  },
  {
   "cell_type": "code",
   "execution_count": 7,
   "metadata": {},
   "outputs": [
    {
     "data": {
      "text/plain": [
       "'Vipul Sharma'"
      ]
     },
     "execution_count": 7,
     "metadata": {},
     "output_type": "execute_result"
    }
   ],
   "source": [
    "vip['Name']"
   ]
  },
  {
   "cell_type": "code",
   "execution_count": 9,
   "metadata": {},
   "outputs": [
    {
     "data": {
      "text/plain": [
       "'Student'"
      ]
     },
     "execution_count": 9,
     "metadata": {},
     "output_type": "execute_result"
    }
   ],
   "source": [
    "vip['Occupation']"
   ]
  },
  {
   "cell_type": "code",
   "execution_count": 10,
   "metadata": {},
   "outputs": [
    {
     "data": {
      "text/plain": [
       "20"
      ]
     },
     "execution_count": 10,
     "metadata": {},
     "output_type": "execute_result"
    }
   ],
   "source": [
    "vip['Age'] = 20\n",
    "vip['Age']"
   ]
  },
  {
   "cell_type": "code",
   "execution_count": 19,
   "metadata": {},
   "outputs": [
    {
     "name": "stdout",
     "output_type": "stream",
     "text": [
      "o  was found  1  times\n",
      "u  was found  1  times\n",
      "i  was found  0  times\n",
      "a  was found  0  times\n",
      "e  was found  2  times\n"
     ]
    }
   ],
   "source": [
    "#Frequency counter program\n",
    "found = {\n",
    "    'o': 0,\n",
    "    'u': 0,\n",
    "    'i': 0,\n",
    "    'a': 0,\n",
    "    'e': 0\n",
    "}\n",
    "vowels = ['a', 'e', 'i', 'o', 'u']\n",
    "string = \"Let's hunt vowels\"\n",
    "for ch in string:\n",
    "    if ch in vowels:\n",
    "        found[ch]+=1\n",
    "\n",
    "for key in found:\n",
    "    print(key, ' was found ', found[key], ' times')"
   ]
  },
  {
   "cell_type": "code",
   "execution_count": 17,
   "metadata": {},
   "outputs": [
    {
     "name": "stdout",
     "output_type": "stream",
     "text": [
      "a  was found  0  times\n",
      "e  was found  2  times\n",
      "i  was found  0  times\n",
      "o  was found  1  times\n",
      "u  was found  1  times\n"
     ]
    }
   ],
   "source": [
    "for key in sorted(found):\n",
    "    print(key, ' was found ', found[key], ' times')"
   ]
  },
  {
   "cell_type": "code",
   "execution_count": 18,
   "metadata": {},
   "outputs": [
    {
     "name": "stdout",
     "output_type": "stream",
     "text": [
      "a  was found  0  times\n",
      "e  was found  2  times\n",
      "i  was found  0  times\n",
      "o  was found  1  times\n",
      "u  was found  1  times\n"
     ]
    }
   ],
   "source": [
    "for key, value in sorted(found.items()):\n",
    "    print(key, ' was found ', value, ' times')"
   ]
  },
  {
   "cell_type": "markdown",
   "metadata": {},
   "source": [
    "<b>NOTE: </b>Dicitionary keys must be initialized."
   ]
  },
  {
   "cell_type": "code",
   "execution_count": 20,
   "metadata": {},
   "outputs": [
    {
     "name": "stdout",
     "output_type": "stream",
     "text": [
      "e  was found  2  times\n",
      "o  was found  1  times\n",
      "u  was found  1  times\n"
     ]
    }
   ],
   "source": [
    "vowels = ['a', 'e', 'i', 'o', 'u']\n",
    "found = {}\n",
    "\n",
    "string = \"Let's hunt vowels\"\n",
    "for ch in string:\n",
    "    if ch in vowels:\n",
    "        if ch in found:\n",
    "            found[ch]+=1\n",
    "        else:\n",
    "            found[ch] = 1\n",
    "\n",
    "for key, value in sorted(found.items()):\n",
    "    print(key, ' was found ', value, ' times')"
   ]
  },
  {
   "cell_type": "code",
   "execution_count": 21,
   "metadata": {},
   "outputs": [
    {
     "name": "stdout",
     "output_type": "stream",
     "text": [
      "e  was found  2  times\n",
      "o  was found  1  times\n",
      "u  was found  1  times\n"
     ]
    }
   ],
   "source": [
    "vowels = ['a', 'e', 'i', 'o', 'u']\n",
    "found = {}\n",
    "\n",
    "string = \"Let's hunt vowels\"\n",
    "for ch in string:\n",
    "    if ch in vowels:\n",
    "        found.setdefault(ch, 0)\n",
    "        found[ch]+=1\n",
    "\n",
    "for key, value in sorted(found.items()):\n",
    "    print(key, ' was found ', value, ' times')"
   ]
  },
  {
   "cell_type": "markdown",
   "metadata": {},
   "source": [
    "## SETS\n",
    "1. Sets don't allow duplicates"
   ]
  },
  {
   "cell_type": "code",
   "execution_count": 22,
   "metadata": {},
   "outputs": [
    {
     "data": {
      "text/plain": [
       "{'a', 'e', 'i', 'o', 'u'}"
      ]
     },
     "execution_count": 22,
     "metadata": {},
     "output_type": "execute_result"
    }
   ],
   "source": [
    "vowels = {'a', 'e', 'i', 'o', 'u', 'a', 'e', 'e'}\n",
    "vowels"
   ]
  },
  {
   "cell_type": "code",
   "execution_count": 24,
   "metadata": {},
   "outputs": [
    {
     "data": {
      "text/plain": [
       "{' ', 'T', 'a', 'g', 'h', 'i', 'n', 'r', 's', 't'}"
      ]
     },
     "execution_count": 24,
     "metadata": {},
     "output_type": "execute_result"
    }
   ],
   "source": [
    "string = \"This is a string\"\n",
    "string_list = []\n",
    "for ch in string:\n",
    "    string_list.append(ch)\n",
    "    \n",
    "string_set = set(string_list)\n",
    "string_set"
   ]
  },
  {
   "cell_type": "code",
   "execution_count": 25,
   "metadata": {},
   "outputs": [
    {
     "data": {
      "text/plain": [
       "{'a', 'e', 'i', 'o', 'u'}"
      ]
     },
     "execution_count": 25,
     "metadata": {},
     "output_type": "execute_result"
    }
   ],
   "source": [
    "vowels = set('aeiou')\n",
    "vowels"
   ]
  },
  {
   "cell_type": "code",
   "execution_count": 26,
   "metadata": {},
   "outputs": [
    {
     "data": {
      "text/plain": [
       "{' ', 'T', 'a', 'e', 'g', 'h', 'i', 'n', 'o', 'r', 's', 't', 'u'}"
      ]
     },
     "execution_count": 26,
     "metadata": {},
     "output_type": "execute_result"
    }
   ],
   "source": [
    "words = vowels.union(string_set)\n",
    "words"
   ]
  },
  {
   "cell_type": "code",
   "execution_count": 28,
   "metadata": {},
   "outputs": [
    {
     "data": {
      "text/plain": [
       "{'e', 'o', 'u'}"
      ]
     },
     "execution_count": 28,
     "metadata": {},
     "output_type": "execute_result"
    }
   ],
   "source": [
    "diff = vowels.difference(string_set)\n",
    "diff"
   ]
  },
  {
   "cell_type": "code",
   "execution_count": 30,
   "metadata": {},
   "outputs": [
    {
     "data": {
      "text/plain": [
       "{'a', 'i'}"
      ]
     },
     "execution_count": 30,
     "metadata": {},
     "output_type": "execute_result"
    }
   ],
   "source": [
    "intersection = vowels.intersection(string_set)\n",
    "intersection"
   ]
  },
  {
   "cell_type": "markdown",
   "metadata": {},
   "source": [
    "## Tuples\n",
    "Tuples are like a list that cannot be changed once created."
   ]
  },
  {
   "cell_type": "code",
   "execution_count": 31,
   "metadata": {},
   "outputs": [
    {
     "data": {
      "text/plain": [
       "list"
      ]
     },
     "execution_count": 31,
     "metadata": {},
     "output_type": "execute_result"
    }
   ],
   "source": [
    "vowels = list('aeiou')\n",
    "type(vowels)"
   ]
  },
  {
   "cell_type": "code",
   "execution_count": 32,
   "metadata": {},
   "outputs": [
    {
     "data": {
      "text/plain": [
       "tuple"
      ]
     },
     "execution_count": 32,
     "metadata": {},
     "output_type": "execute_result"
    }
   ],
   "source": [
    "vowels = tuple('aeiou')\n",
    "type(vowels)"
   ]
  },
  {
   "cell_type": "code",
   "execution_count": 33,
   "metadata": {},
   "outputs": [
    {
     "data": {
      "text/plain": [
       "('a', 'e', 'i', 'o', 'u')"
      ]
     },
     "execution_count": 33,
     "metadata": {},
     "output_type": "execute_result"
    }
   ],
   "source": [
    "vowels"
   ]
  },
  {
   "cell_type": "markdown",
   "metadata": {},
   "source": [
    "### Single object tuples"
   ]
  },
  {
   "cell_type": "code",
   "execution_count": 34,
   "metadata": {},
   "outputs": [
    {
     "data": {
      "text/plain": [
       "str"
      ]
     },
     "execution_count": 34,
     "metadata": {},
     "output_type": "execute_result"
    }
   ],
   "source": [
    "str1 = ('Python')\n",
    "type(str1)"
   ]
  },
  {
   "cell_type": "code",
   "execution_count": 35,
   "metadata": {},
   "outputs": [
    {
     "data": {
      "text/plain": [
       "tuple"
      ]
     },
     "execution_count": 35,
     "metadata": {},
     "output_type": "execute_result"
    }
   ],
   "source": [
    "str2 = ('Python',)\n",
    "type(str2)"
   ]
  },
  {
   "cell_type": "code",
   "execution_count": 37,
   "metadata": {},
   "outputs": [
    {
     "data": {
      "text/plain": [
       "{'person1': {'Gender': 'Male',\n",
       "  'Name': 'John Doe',\n",
       "  'Occupation': 'Web Development',\n",
       "  'Planet': 'Binary'},\n",
       " 'person2': {'Gender': 'Female',\n",
       "  'Name': 'Jane Doe',\n",
       "  'Occupation': 'Web Development',\n",
       "  'Planet': 'Binary'},\n",
       " 'person3': {'Gender': 'Unknown',\n",
       "  'Name': 'Marvin',\n",
       "  'Occupation': 'Paranoid Android',\n",
       "  'Planet': 'Unknown'}}"
      ]
     },
     "execution_count": 37,
     "metadata": {},
     "output_type": "execute_result"
    }
   ],
   "source": [
    "person1 = {\n",
    "    'Name': 'John Doe',\n",
    "    'Gender': 'Male',\n",
    "    'Occupation': 'Web Development',\n",
    "    'Planet': 'Binary'\n",
    "}\n",
    "\n",
    "person2 = {\n",
    "    'Name': 'Jane Doe',\n",
    "    'Gender': 'Female',\n",
    "    'Occupation': 'Web Development',\n",
    "    'Planet': 'Binary'\n",
    "}\n",
    "\n",
    "person3 = {\n",
    "    'Name': 'Marvin',\n",
    "    'Gender': 'Unknown',\n",
    "    'Occupation': 'Paranoid Android',\n",
    "    'Planet': 'Unknown'\n",
    "}\n",
    "\n",
    "\n",
    "people = {\n",
    "    'person1': person1,\n",
    "    'person2': person2,\n",
    "    'person3': person3\n",
    "}\n",
    "\n",
    "people"
   ]
  },
  {
   "cell_type": "code",
   "execution_count": 38,
   "metadata": {},
   "outputs": [
    {
     "name": "stdout",
     "output_type": "stream",
     "text": [
      "{'person1': {'Gender': 'Male',\n",
      "             'Name': 'John Doe',\n",
      "             'Occupation': 'Web Development',\n",
      "             'Planet': 'Binary'},\n",
      " 'person2': {'Gender': 'Female',\n",
      "             'Name': 'Jane Doe',\n",
      "             'Occupation': 'Web Development',\n",
      "             'Planet': 'Binary'},\n",
      " 'person3': {'Gender': 'Unknown',\n",
      "             'Name': 'Marvin',\n",
      "             'Occupation': 'Paranoid Android',\n",
      "             'Planet': 'Unknown'}}\n"
     ]
    }
   ],
   "source": [
    "import pprint # Short for pretty print to print things in readable format for all data strutures\n",
    "pprint.pprint(people)"
   ]
  },
  {
   "cell_type": "code",
   "execution_count": 39,
   "metadata": {},
   "outputs": [
    {
     "data": {
      "text/plain": [
       "'Paranoid Android'"
      ]
     },
     "execution_count": 39,
     "metadata": {},
     "output_type": "execute_result"
    }
   ],
   "source": [
    "people['person3']['Occupation']"
   ]
  },
  {
   "cell_type": "code",
   "execution_count": null,
   "metadata": {
    "collapsed": true
   },
   "outputs": [],
   "source": []
  }
 ],
 "metadata": {
  "kernelspec": {
   "display_name": "Python 3",
   "language": "python",
   "name": "python3"
  },
  "language_info": {
   "codemirror_mode": {
    "name": "ipython",
    "version": 3
   },
   "file_extension": ".py",
   "mimetype": "text/x-python",
   "name": "python",
   "nbconvert_exporter": "python",
   "pygments_lexer": "ipython3",
   "version": "3.6.3"
  }
 },
 "nbformat": 4,
 "nbformat_minor": 2
}
