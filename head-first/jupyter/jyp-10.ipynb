{
 "cells": [
  {
   "cell_type": "markdown",
   "metadata": {},
   "source": [
    "# Function Decorators"
   ]
  },
  {
   "cell_type": "markdown",
   "metadata": {},
   "source": [
    "## Passing a Function to a Function"
   ]
  },
  {
   "cell_type": "code",
   "execution_count": 6,
   "metadata": {},
   "outputs": [
    {
     "name": "stdout",
     "output_type": "stream",
     "text": [
      "This is the first function\n",
      "First return string\n"
     ]
    }
   ],
   "source": [
    "def first():\n",
    "    print(\"This is the first function\")\n",
    "    return \"First return string\"\n",
    "    \n",
    "def second(arg):\n",
    "    print(arg)\n",
    "    return\n",
    "\n",
    "second(first())"
   ]
  },
  {
   "cell_type": "code",
   "execution_count": 9,
   "metadata": {},
   "outputs": [
    {
     "name": "stdout",
     "output_type": "stream",
     "text": [
      "22\n"
     ]
    }
   ],
   "source": [
    "def val_print(value):\n",
    "    print(value)\n",
    "    return\n",
    "\n",
    "def func_print(func: object, value: int) -> object:\n",
    "    return func(value)\n",
    "\n",
    "func_print(val_print, 22)"
   ]
  },
  {
   "cell_type": "markdown",
   "metadata": {},
   "source": [
    "## Nested Functions"
   ]
  },
  {
   "cell_type": "markdown",
   "metadata": {},
   "source": [
    "### Function returning function"
   ]
  },
  {
   "cell_type": "code",
   "execution_count": 10,
   "metadata": {},
   "outputs": [
    {
     "name": "stdout",
     "output_type": "stream",
     "text": [
      "This is the outer function!\n"
     ]
    }
   ],
   "source": [
    "def outer():\n",
    "    def inner():\n",
    "        print(\"This is inner function!\")\n",
    "        return\n",
    "    \n",
    "    print(\"This is the outer function!\")\n",
    "    return inner\n",
    "\n",
    "func = outer()"
   ]
  },
  {
   "cell_type": "code",
   "execution_count": 11,
   "metadata": {},
   "outputs": [
    {
     "data": {
      "text/plain": [
       "function"
      ]
     },
     "execution_count": 11,
     "metadata": {},
     "output_type": "execute_result"
    }
   ],
   "source": [
    "type(func)"
   ]
  },
  {
   "cell_type": "code",
   "execution_count": 12,
   "metadata": {},
   "outputs": [
    {
     "name": "stdout",
     "output_type": "stream",
     "text": [
      "This is inner function!\n"
     ]
    }
   ],
   "source": [
    "func()"
   ]
  },
  {
   "cell_type": "markdown",
   "metadata": {},
   "source": [
    "## Function accepting arbirary list of arguments"
   ]
  },
  {
   "cell_type": "code",
   "execution_count": 13,
   "metadata": {},
   "outputs": [
    {
     "name": "stdout",
     "output_type": "stream",
     "text": [
      "10 20 30 "
     ]
    }
   ],
   "source": [
    "def myfunc(*args):\n",
    "    for a in args:\n",
    "        print(a, end = ' ')\n",
    "    return\n",
    "\n",
    "myfunc(10, 20, 30)"
   ]
  },
  {
   "cell_type": "code",
   "execution_count": 14,
   "metadata": {},
   "outputs": [
    {
     "name": "stdout",
     "output_type": "stream",
     "text": [
      "[1, 3, 5, 7, 11] "
     ]
    }
   ],
   "source": [
    "values = [1, 3, 5, 7, 11]\n",
    "myfunc(values)"
   ]
  },
  {
   "cell_type": "code",
   "execution_count": 15,
   "metadata": {},
   "outputs": [
    {
     "name": "stdout",
     "output_type": "stream",
     "text": [
      "1 3 5 7 11 "
     ]
    }
   ],
   "source": [
    "myfunc(*values) #Using * when invoking function"
   ]
  },
  {
   "cell_type": "markdown",
   "metadata": {},
   "source": [
    "### Accepting a dicitionary of arguments"
   ]
  },
  {
   "cell_type": "code",
   "execution_count": 20,
   "metadata": {},
   "outputs": [
    {
     "name": "stdout",
     "output_type": "stream",
     "text": [
      "a -> 11; b -> 22; c -> 33; "
     ]
    }
   ],
   "source": [
    "def myfunc2(**kwargs):\n",
    "    for key, value in kwargs.items():\n",
    "        print(key, '->', value, end='; ')\n",
    "\n",
    "dict = {\n",
    "    'a': 11,\n",
    "    'b': 22,\n",
    "    'c': 33\n",
    "}\n",
    "\n",
    "myfunc2(a=11, b=22, c=33)"
   ]
  },
  {
   "cell_type": "markdown",
   "metadata": {
    "collapsed": true
   },
   "source": [
    "## Accepting any number and type of functional arguments"
   ]
  },
  {
   "cell_type": "code",
   "execution_count": 2,
   "metadata": {},
   "outputs": [
    {
     "name": "stdout",
     "output_type": "stream",
     "text": [
      "1 2 3 a -> 11; b -> 20; c -> 30; "
     ]
    }
   ],
   "source": [
    "def myfunc3(*args, **kwargs):\n",
    "    if args:\n",
    "        for a in args:\n",
    "            print(a, end=' ')\n",
    "    \n",
    "    if kwargs:\n",
    "        for key, value in kwargs.items():\n",
    "            print(key, '->', value, end='; ')\n",
    "    return\n",
    "\n",
    "myfunc3(1, 2, 3, a=11, b=20, c=30)"
   ]
  },
  {
   "cell_type": "markdown",
   "metadata": {},
   "source": [
    "## Function Decorator\n",
    "\n",
    "1. A decorator is a function\n",
    "2. A decorator takes the decorated function as an argument\n",
    "3. A decorator returns a new function\n",
    "4. A decorator maintains the decorated function's signature"
   ]
  },
  {
   "cell_type": "markdown",
   "metadata": {},
   "source": [
    "------------THIS IS INCOMPLETE------------"
   ]
  }
 ],
 "metadata": {
  "kernelspec": {
   "display_name": "Python 3",
   "language": "python",
   "name": "python3"
  },
  "language_info": {
   "codemirror_mode": {
    "name": "ipython",
    "version": 3
   },
   "file_extension": ".py",
   "mimetype": "text/x-python",
   "name": "python",
   "nbconvert_exporter": "python",
   "pygments_lexer": "ipython3",
   "version": "3.6.3"
  }
 },
 "nbformat": 4,
 "nbformat_minor": 2
}
