{
 "cells": [
  {
   "cell_type": "markdown",
   "metadata": {},
   "source": [
    "# Functions and Modules"
   ]
  },
  {
   "cell_type": "code",
   "execution_count": 6,
   "metadata": {
    "collapsed": true
   },
   "outputs": [],
   "source": [
    "def search4vowels():\n",
    "    vowels = set('aeiou')\n",
    "    word = input(\"Enter your string: \")\n",
    "    found = vowels.intersection(set(word))\n",
    "    for ch in found:\n",
    "        print(ch)"
   ]
  },
  {
   "cell_type": "code",
   "execution_count": 7,
   "metadata": {},
   "outputs": [
    {
     "name": "stdout",
     "output_type": "stream",
     "text": [
      "Enter your string: This is some string\n",
      "i\n",
      "e\n",
      "o\n"
     ]
    }
   ],
   "source": [
    "search4vowels()"
   ]
  },
  {
   "cell_type": "markdown",
   "metadata": {},
   "source": [
    "The function name <b>search4vowels</b> is not <b>PEP-8</b> compliant. Instead we could use <b>search_for_vowels</b>."
   ]
  },
  {
   "cell_type": "code",
   "execution_count": 8,
   "metadata": {},
   "outputs": [
    {
     "data": {
      "text/plain": [
       "False"
      ]
     },
     "execution_count": 8,
     "metadata": {},
     "output_type": "execute_result"
    }
   ],
   "source": [
    "bool(0)"
   ]
  },
  {
   "cell_type": "code",
   "execution_count": 9,
   "metadata": {},
   "outputs": [
    {
     "data": {
      "text/plain": [
       "False"
      ]
     },
     "execution_count": 9,
     "metadata": {},
     "output_type": "execute_result"
    }
   ],
   "source": [
    "bool(0.0)"
   ]
  },
  {
   "cell_type": "code",
   "execution_count": 10,
   "metadata": {},
   "outputs": [
    {
     "data": {
      "text/plain": [
       "False"
      ]
     },
     "execution_count": 10,
     "metadata": {},
     "output_type": "execute_result"
    }
   ],
   "source": [
    "bool({})"
   ]
  },
  {
   "cell_type": "code",
   "execution_count": 11,
   "metadata": {},
   "outputs": [
    {
     "data": {
      "text/plain": [
       "False"
      ]
     },
     "execution_count": 11,
     "metadata": {},
     "output_type": "execute_result"
    }
   ],
   "source": [
    "bool([])"
   ]
  },
  {
   "cell_type": "code",
   "execution_count": 12,
   "metadata": {},
   "outputs": [
    {
     "data": {
      "text/plain": [
       "False"
      ]
     },
     "execution_count": 12,
     "metadata": {},
     "output_type": "execute_result"
    }
   ],
   "source": [
    "bool(())"
   ]
  },
  {
   "cell_type": "code",
   "execution_count": 14,
   "metadata": {},
   "outputs": [
    {
     "data": {
      "text/plain": [
       "{'e', 'i', 'o'}"
      ]
     },
     "execution_count": 14,
     "metadata": {},
     "output_type": "execute_result"
    }
   ],
   "source": [
    "def search_for_vowels(word):\n",
    "    vowels = set('aeiou')\n",
    "    return vowels.intersection(set(word))\n",
    "\n",
    "search_for_vowels(\"This is some string.\")"
   ]
  },
  {
   "cell_type": "markdown",
   "metadata": {},
   "source": [
    "## Using Annotations to Improve Docs"
   ]
  },
  {
   "cell_type": "code",
   "execution_count": 15,
   "metadata": {},
   "outputs": [
    {
     "data": {
      "text/plain": [
       "{'e', 'i', 'o'}"
      ]
     },
     "execution_count": 15,
     "metadata": {},
     "output_type": "execute_result"
    }
   ],
   "source": [
    "def search_for_string(word:str) -> set:\n",
    "    vowels = set('aeiou')\n",
    "    return vowels.intersection(set(word))\n",
    "\n",
    "search_for_vowels(\"This is some string.\")"
   ]
  },
  {
   "cell_type": "code",
   "execution_count": 17,
   "metadata": {},
   "outputs": [
    {
     "data": {
      "text/plain": [
       "{'a', 'e', 'h', 'i'}"
      ]
     },
     "execution_count": 17,
     "metadata": {},
     "output_type": "execute_result"
    }
   ],
   "source": [
    "def search_for_letters(phrase:str, letters:str) -> set:\n",
    "    return set(letters).intersection(set(phrase))\n",
    "\n",
    "search_for_letters(\"This is phrase\", \"abcdefghi\")"
   ]
  },
  {
   "cell_type": "code",
   "execution_count": 19,
   "metadata": {},
   "outputs": [
    {
     "data": {
      "text/plain": [
       "{'a', 'e', 'i'}"
      ]
     },
     "execution_count": 19,
     "metadata": {},
     "output_type": "execute_result"
    }
   ],
   "source": [
    "def search_for_letters(phrase:str, letters:str='aeiou') -> set:\n",
    "    return set(letters).intersection(set(phrase))\n",
    "\n",
    "search_for_letters(\"This is phrase\")"
   ]
  },
  {
   "cell_type": "code",
   "execution_count": 21,
   "metadata": {},
   "outputs": [
    {
     "data": {
      "text/plain": [
       "{'m', 'n', 'o', 'p', 'r', 's'}"
      ]
     },
     "execution_count": 21,
     "metadata": {},
     "output_type": "execute_result"
    }
   ],
   "source": [
    "#Using keyword assignment instead of positional\n",
    "search_for_letters(letters='mnopqrstuvwxyz', phrase='some random phrase')"
   ]
  },
  {
   "cell_type": "markdown",
   "metadata": {},
   "source": [
    "## Functions Beget Modules\n",
    "\n",
    "Search order of modules -\n",
    "1. Current working directory\n",
    "2. Interpreter's sit-packages locations\n",
    "3. The standard library locations"
   ]
  },
  {
   "cell_type": "code",
   "execution_count": 23,
   "metadata": {},
   "outputs": [
    {
     "ename": "ModuleNotFoundError",
     "evalue": "No module named 'some_module'",
     "output_type": "error",
     "traceback": [
      "\u001b[1;31m---------------------------------------------------------------------------\u001b[0m",
      "\u001b[1;31mModuleNotFoundError\u001b[0m                       Traceback (most recent call last)",
      "\u001b[1;32m<ipython-input-23-041f57c7eaad>\u001b[0m in \u001b[0;36m<module>\u001b[1;34m()\u001b[0m\n\u001b[1;32m----> 1\u001b[1;33m \u001b[1;32mimport\u001b[0m \u001b[0msome_module\u001b[0m \u001b[1;31m#When some module does not exists\u001b[0m\u001b[1;33m\u001b[0m\u001b[0m\n\u001b[0m",
      "\u001b[1;31mModuleNotFoundError\u001b[0m: No module named 'some_module'"
     ]
    }
   ],
   "source": [
    "import some_module #When some module does not exists"
   ]
  },
  {
   "cell_type": "markdown",
   "metadata": {},
   "source": [
    "### Getting a module into site-packages\n",
    "\n",
    "These are directories that contain any third-party python modules which one may have installed (including one written by us).\n",
    "The interpreter comes with the built-in ability to add modules to our python setup\n",
    "\n",
    "### Using \"setuptools\"  to install into site-packages\n",
    "1. Create a distribution description - This identifies the module we want <i>setuptools</i> to install.\n",
    "2. Generate a distribution file - we need to create a shareable distribution file to contain our module's code.\n",
    "3. Install the distribution file."
   ]
  },
  {
   "cell_type": "markdown",
   "metadata": {},
   "source": [
    "### 1. Creating a distributive description - \n",
    "It requires us to create (at a minimum) two descriptive files for our module - \n",
    "1. setup.py\n",
    "2. README.txt"
   ]
  },
  {
   "cell_type": "markdown",
   "metadata": {},
   "source": [
    "    # setup.py\n",
    "    from setuptools import setup\n",
    "\n",
    "    '''\n",
    "    name - Identifies the distribution. It's common practice to name the distribution after the module.\n",
    "    py_modules - List of .py files to be included in the module.\n",
    "    '''\n",
    "\n",
    "    setup(\n",
    "        name = 'vowel_search',\n",
    "        version = '1.0',\n",
    "        description = 'My first module.',\n",
    "        author = 'Vipul Sharma',\n",
    "        author_email = 'vipuls526@gmail.com',\n",
    "        url = 'www.example.com',\n",
    "        py_modules = ['vowel_search']\n",
    "    )"
   ]
  },
  {
   "cell_type": "markdown",
   "metadata": {},
   "source": [
    "    # README.txt"
   ]
  },
  {
   "cell_type": "markdown",
   "metadata": {},
   "source": [
    "<b>Note: </b>The readme.txt can be blank. It is required to write the textual description of the module."
   ]
  },
  {
   "cell_type": "markdown",
   "metadata": {},
   "source": [
    "Now run the command in your windows os - \n",
    "    >> py -3 setup.py sdist\n",
    "    \n",
    "A ZIP (TAR.GZ) file will be create in a dist folder.\n",
    "Navigate to the dist folder and run the command -\n",
    "    >> py -3 -m pip install vowel_search-1.0.zip\n",
    "    or\n",
    "    >> py -3 -m pip install vowel_search-1.0.tar.gz"
   ]
  },
  {
   "cell_type": "code",
   "execution_count": 28,
   "metadata": {},
   "outputs": [
    {
     "ename": "ModuleNotFoundError",
     "evalue": "No module named 'vowel_search'",
     "output_type": "error",
     "traceback": [
      "\u001b[1;31m---------------------------------------------------------------------------\u001b[0m",
      "\u001b[1;31mModuleNotFoundError\u001b[0m                       Traceback (most recent call last)",
      "\u001b[1;32m<ipython-input-28-e58f71bc2eab>\u001b[0m in \u001b[0;36m<module>\u001b[1;34m()\u001b[0m\n\u001b[1;32m----> 1\u001b[1;33m \u001b[1;32mimport\u001b[0m \u001b[0mvowel_search\u001b[0m\u001b[1;33m\u001b[0m\u001b[0m\n\u001b[0m\u001b[0;32m      2\u001b[0m \u001b[1;33m\u001b[0m\u001b[0m\n\u001b[0;32m      3\u001b[0m \u001b[0mvowel_search\u001b[0m\u001b[1;33m.\u001b[0m\u001b[0msearch_for_vowels\u001b[0m\u001b[1;33m(\u001b[0m\u001b[1;34m'The first vowel search'\u001b[0m\u001b[1;33m)\u001b[0m\u001b[1;33m\u001b[0m\u001b[0m\n\u001b[0;32m      4\u001b[0m \u001b[1;33m\u001b[0m\u001b[0m\n\u001b[0;32m      5\u001b[0m \u001b[1;31m#AND I HAVE NO IDEA\u001b[0m\u001b[1;33m\u001b[0m\u001b[1;33m\u001b[0m\u001b[0m\n",
      "\u001b[1;31mModuleNotFoundError\u001b[0m: No module named 'vowel_search'"
     ]
    }
   ],
   "source": [
    "import vowel_search\n",
    "\n",
    "vowel_search.search_for_vowels('The first vowel search')\n",
    "\n",
    "#AND I HAVE NO IDEA"
   ]
  },
  {
   "cell_type": "markdown",
   "metadata": {},
   "source": [
    "## Sharing Modules\n",
    "\n",
    "You can upload your distribution file to Python's centrally managed web-based software repository, called PyPI.<br/>\n",
    "visit - https://pypi.python.org/pypi\n",
    "\n",
    "Also, read the guide maintained by the <i>Python Packaging Authority</i> - https://www.pypa.io"
   ]
  },
  {
   "cell_type": "markdown",
   "metadata": {},
   "source": [
    "## Misbehaving Function Arguments"
   ]
  },
  {
   "cell_type": "code",
   "execution_count": 29,
   "metadata": {},
   "outputs": [
    {
     "name": "stdout",
     "output_type": "stream",
     "text": [
      "Given Value =  12\n",
      "New Value =  24\n"
     ]
    },
    {
     "data": {
      "text/plain": [
       "12"
      ]
     },
     "execution_count": 29,
     "metadata": {},
     "output_type": "execute_result"
    }
   ],
   "source": [
    "def double(arg):\n",
    "    print(\"Given Value = \", arg)\n",
    "    arg = arg*2\n",
    "    print(\"New Value = \", arg)\n",
    "    return\n",
    "\n",
    "num = 12\n",
    "double(12)\n",
    "num"
   ]
  },
  {
   "cell_type": "code",
   "execution_count": 31,
   "metadata": {},
   "outputs": [
    {
     "name": "stdout",
     "output_type": "stream",
     "text": [
      "Given Value =  [1, 2, 3, 4, 5]\n",
      "New Value =  None\n"
     ]
    },
    {
     "data": {
      "text/plain": [
       "[1, 2, 3, 4, 5, 10]"
      ]
     },
     "execution_count": 31,
     "metadata": {},
     "output_type": "execute_result"
    }
   ],
   "source": [
    "def change(arg):\n",
    "    print(\"Given Value = \", arg)\n",
    "    arg = arg.append(10)\n",
    "    print(\"New Value = \", arg)\n",
    "    return\n",
    "\n",
    "nums = [1, 2, 3, 4, 5]\n",
    "change(nums)\n",
    "nums"
   ]
  },
  {
   "cell_type": "markdown",
   "metadata": {},
   "source": [
    "What happens is that interpreter looks at the type of the value referred to by the object reference (the memory address) and, if the variable refers to a <b>mutable</b> value, call by reference semantics is apply else call by value semantics apply."
   ]
  },
  {
   "cell_type": "markdown",
   "metadata": {},
   "source": [
    "## Finally PEP-8 Compliance\n",
    "\n",
    "    >> pip install pytest\n",
    "    >> pip install pytest-pep8\n",
    "    \n",
    "To check the compliance of any file run the command - \n",
    "    >> py.test --pep8 file_name.py"
   ]
  },
  {
   "cell_type": "code",
   "execution_count": null,
   "metadata": {
    "collapsed": true
   },
   "outputs": [],
   "source": []
  }
 ],
 "metadata": {
  "kernelspec": {
   "display_name": "Python 3",
   "language": "python",
   "name": "python3"
  },
  "language_info": {
   "codemirror_mode": {
    "name": "ipython",
    "version": 3
   },
   "file_extension": ".py",
   "mimetype": "text/x-python",
   "name": "python",
   "nbconvert_exporter": "python",
   "pygments_lexer": "ipython3",
   "version": "3.6.3"
  }
 },
 "nbformat": 4,
 "nbformat_minor": 2
}
